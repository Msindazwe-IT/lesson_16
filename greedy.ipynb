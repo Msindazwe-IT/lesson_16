{
 "cells": [
  {
   "cell_type": "code",
   "execution_count": 20,
   "id": "ddb9084f-9dbb-4016-9f4c-aca82719fff8",
   "metadata": {},
   "outputs": [],
   "source": [
    "import sys\n",
    "from heapq import heapify, heappop, heappush"
   ]
  },
  {
   "cell_type": "code",
   "execution_count": 26,
   "id": "64f1189f-6431-4473-88ac-78613fd0227c",
   "metadata": {},
   "outputs": [],
   "source": [
    "def Greedy(graph,src,dest):\n",
    "    inf=sys.maxsize\n",
    "    node_data = {'DBN':{'cost':inf,'pred':[]},\n",
    "                 'PMB':{'cost':inf,'pred':[]},\n",
    "                 'RBY':{'cost':inf,'pred':[]},\n",
    "                 'HMT':{'cost':inf,'pred':[]},\n",
    "                 'VRT':{'cost':inf,'pred':[]},\n",
    "                 'JHB':{'cost':inf,'pred':[]},\n",
    "                 }\n",
    "    node_data[src]['cost']= 0\n",
    "    visited =[]\n",
    "    temp = src\n",
    "    for i in range(5):\n",
    "        if temp not in visited:\n",
    "            visited.append(temp)\n",
    "            min_heap = []\n",
    "            for j in graph[temp]:\n",
    "                if j not in visited:\n",
    "                    cost = node_data[temp]['cost'] + graph[temp][j]\n",
    "                    if cost < node_data[j]['cost']:\n",
    "                        node_data[j]['cost'] = cost\n",
    "                        node_data[j]['pred'] = node_data[temp]['pred'] + list(temp)\n",
    "                    heappush(min_heap,(node_data[j]['cost'],j))\n",
    "        heapify(min_heap)\n",
    "        temp = min_heap[0][1]\n",
    "    print(\"Shortest Distance = \" + str(node_data[dest]['cost']))\n",
    "    print(\"Shortest Distance = \" + str(node_data[dest]['pred'] + list(dest)))"
   ]
  },
  {
   "cell_type": "code",
   "execution_count": 23,
   "id": "19c935a9-dee4-4b69-8fce-7d3f8b641267",
   "metadata": {},
   "outputs": [],
   "source": [
    "if __name__== \"__main__\":\n",
    "    graph = {\n",
    "        'DBN':{'PMB':89,'RBY':112},\n",
    "        'PMB':{'DBN':89,'RBY':70,'HMT':209},\n",
    "        'RBY':{'DBN':112,'PMB':70,'HMT':100,'VRT':106},\n",
    "        'HMT':{'PMB':209,'RBY':100,'VRT':41,'JHB':210},\n",
    "        'VRT':{'RBY':106,'HMT':41,'JHB':106},\n",
    "        'JHB':{'VRT':106,'HMT':210,}\n",
    "    }"
   ]
  },
  {
   "cell_type": "code",
   "execution_count": 27,
   "id": "6e756bda-7b4e-41ec-b1e7-826ac56b41bb",
   "metadata": {},
   "outputs": [
    {
     "name": "stdout",
     "output_type": "stream",
     "text": [
      "Shortest Distance = 324\n",
      "Shortest Distance = ['D', 'B', 'N', 'R', 'B', 'Y', 'V', 'R', 'T', 'J', 'H', 'B']\n"
     ]
    }
   ],
   "source": [
    "source = 'DBN'\n",
    "destination = 'JHB'\n",
    "Greedy(graph,source,destination)"
   ]
  }
 ],
 "metadata": {
  "kernelspec": {
   "display_name": "Python 3 (ipykernel)",
   "language": "python",
   "name": "python3"
  },
  "language_info": {
   "codemirror_mode": {
    "name": "ipython",
    "version": 3
   },
   "file_extension": ".py",
   "mimetype": "text/x-python",
   "name": "python",
   "nbconvert_exporter": "python",
   "pygments_lexer": "ipython3",
   "version": "3.12.3"
  }
 },
 "nbformat": 4,
 "nbformat_minor": 5
}
